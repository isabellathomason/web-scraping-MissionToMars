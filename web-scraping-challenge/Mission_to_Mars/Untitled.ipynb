{
 "cells": [
  {
   "cell_type": "code",
   "execution_count": null,
   "metadata": {},
   "outputs": [],
   "source": [
    "# Import dependencies\n",
    "from splinter import Browser\n",
    "import pandas as pd\n",
    "import requests\n",
    "from bs4 import BeautifulSoup as bs\n",
    "from pprint import pprint\n",
    "import time"
   ]
  },
  {
   "cell_type": "code",
   "execution_count": null,
   "metadata": {},
   "outputs": [],
   "source": [
    "##NASA MARS NEWS"
   ]
  },
  {
   "cell_type": "code",
   "execution_count": null,
   "metadata": {},
   "outputs": [],
   "source": [
    "# Launch site and use BeautifulSoup to parse\n",
    "executable_path = {'executable_path': 'chromedriver.exe'}\n",
    "browser = Browser('chrome', **executable_path, headless=False)"
   ]
  },
  {
   "cell_type": "code",
   "execution_count": null,
   "metadata": {},
   "outputs": [],
   "source": [
    "# Visit Nasa news url through splinter module\n",
    "url_news = \"https://mars.nasa.gov/news/\"\n",
    "browser.visit(url_news)"
   ]
  },
  {
   "cell_type": "code",
   "execution_count": null,
   "metadata": {},
   "outputs": [],
   "source": [
    "# HTML Object\n",
    "html_news = browser.html\n",
    "soup = bs(html_news, \"html.parser\")\n",
    "\n",
    "# Scrape the latest News Title and Paragraph Text\n",
    "news_date = soup.find(\"div\", class_ = \"list_date\").text\n",
    "news_title = soup.find(\"div\", class_ = \"content_title\").text\n",
    "news_paragraph = soup.find(\"div\", class_ = \"article_teaser_body\").text\n",
    "\n",
    "# Display scrapped news \n",
    "print(news_date)\n",
    "print(news_title)\n",
    "print(news_paragraph)"
   ]
  },
  {
   "cell_type": "code",
   "execution_count": null,
   "metadata": {},
   "outputs": [],
   "source": [
    "##JPL Mars Space Images - Featured Image"
   ]
  },
  {
   "cell_type": "code",
   "execution_count": null,
   "metadata": {},
   "outputs": [],
   "source": [
    "# Visit JPL Featured Space Image url through splinter module\n",
    "url_spaceimage = \"https://www.jpl.nasa.gov/spaceimages/?search=&category=Mars\"\n",
    "browser.visit(url_spaceimage)\n"
   ]
  },
  {
   "cell_type": "code",
   "execution_count": null,
   "metadata": {},
   "outputs": [],
   "source": [
    "# HTML Object\n",
    "img_html = browser.html\n",
    "img_soup = bs(img_html, \"html.parser\")\n"
   ]
  },
  {
   "cell_type": "code",
   "execution_count": null,
   "metadata": {},
   "outputs": [],
   "source": [
    "# Find image url to the full size\n",
    "featured_image = img_soup.find(\"article\")[\"style\"].replace('background-image: url(','').replace(');', '')[1:-1]\n",
    "\n",
    "# Display url of the full image\n",
    "featured_image_url = f\"https://www.jpl.nasa.gov{featured_image}\"\n",
    "print(\"JPL Featured Space Image\")\n",
    "print(\"-----------------------------------------\")\n",
    "print(featured_image_url)"
   ]
  },
  {
   "cell_type": "code",
   "execution_count": null,
   "metadata": {},
   "outputs": [],
   "source": [
    "##MARS WEATHER\n",
    "##(Removed from hw)"
   ]
  },
  {
   "cell_type": "code",
   "execution_count": null,
   "metadata": {},
   "outputs": [],
   "source": [
    "##MARS FACTS"
   ]
  },
  {
   "cell_type": "code",
   "execution_count": null,
   "metadata": {},
   "outputs": [],
   "source": [
    "# Visit the Mars Facts webpage and use Pandas to scrape the table\n",
    "url_facts = \"https://space-facts.com/mars/\"\n",
    "\n",
    "# Use Pandas - read_html - to scrape tabular data from a page\n",
    "mars_facts = pd.read_html(url_facts)\n",
    "mars_facts"
   ]
  },
  {
   "cell_type": "code",
   "execution_count": null,
   "metadata": {},
   "outputs": [],
   "source": [
    "mars_df = mars_facts[0]\n",
    "\n",
    "# Create Data Frame\n",
    "mars_df.columns = [\"Description\", \"Value\"]\n",
    "\n",
    "# Set index to Description\n",
    "mars_df.set_index(\"Description\", inplace=True)\n",
    "\n",
    "# Print Data Frame\n",
    "mars_df"
   ]
  },
  {
   "cell_type": "code",
   "execution_count": null,
   "metadata": {},
   "outputs": [],
   "source": [
    "# Save html code to a file\n",
    "html_table = mars_df.to_html()\n",
    "\n",
    "# Strip unwanted newlines to clean up the table\n",
    "html_table.replace(\"\\n\", '')\n",
    "\n",
    "# Save html code\n",
    "mars_df.to_html(\"mars_facts_data.html\")"
   ]
  },
  {
   "cell_type": "code",
   "execution_count": null,
   "metadata": {},
   "outputs": [],
   "source": [
    "html_table = mars_df.to_html(classes = 'table table-striped')\n",
    "print(html_table)"
   ]
  },
  {
   "cell_type": "code",
   "execution_count": null,
   "metadata": {},
   "outputs": [],
   "source": [
    "##MARS HEMISPHERES"
   ]
  },
  {
   "cell_type": "code",
   "execution_count": null,
   "metadata": {},
   "outputs": [],
   "source": [
    "# Visit the USGS Astrogeology site\n",
    "hem_url = \"https://astrogeology.usgs.gov/search/results?q=hemisphere+enhanced&k1=target&v1=Mars\"\n",
    "hem_response = requests.get(hem_url)\n",
    "hem_soup = bs(hem_response.text, 'html.parser')\n",
    "\n",
    "results = hem_soup.find_all('div', class_='item')\n",
    "print(results)\n"
   ]
  },
  {
   "cell_type": "code",
   "execution_count": null,
   "metadata": {},
   "outputs": [],
   "source": [
    "hem_img_urls = []\n",
    "\n",
    "for result in results:\n",
    "    \n",
    "    title = result.find('h3').text\n",
    "    \n",
    "    single_url = 'https://astrogeology.usgs.gov' + result.find('a', class_='itemLink product-item')['href']\n",
    "    single_response = requests.get(single_url)\n",
    "    single_soup = bs(single_response.text, 'html.parser')\n",
    "    \n",
    "    img_url = single_soup.find('img', class_='wide-image')['src']\n",
    "    \n",
    "    hem_img_urls.append({\"title\" : title, \"img_url\" : f'https://astrogeology.usgs.gov{img_url}'})\n",
    "    \n",
    "hem_img_urls"
   ]
  }
 ],
 "metadata": {
  "kernelspec": {
   "display_name": "Python 3",
   "language": "python",
   "name": "python3"
  },
  "language_info": {
   "codemirror_mode": {
    "name": "ipython",
    "version": 3
   },
   "file_extension": ".py",
   "mimetype": "text/x-python",
   "name": "python",
   "nbconvert_exporter": "python",
   "pygments_lexer": "ipython3",
   "version": "3.7.6"
  }
 },
 "nbformat": 4,
 "nbformat_minor": 4
}
